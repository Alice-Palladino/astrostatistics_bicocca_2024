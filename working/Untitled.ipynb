{
 "cells": [
  {
   "cell_type": "code",
   "execution_count": 19,
   "id": "796cdac5-45b6-4e22-9811-5e8a95bfa5f5",
   "metadata": {},
   "outputs": [
    {
     "name": "stdout",
     "output_type": "stream",
     "text": [
      "% vittorie papà: 0.24\n",
      "% vittorie Fede: 0.25\n"
     ]
    }
   ],
   "source": [
    "import numpy as np\n",
    "\n",
    "n = 10000     # numero di ripetizioni\n",
    "\n",
    "N = 4     # numero di porte\n",
    "\n",
    "prize = ['goat', 'goat', 'goat', 'car']\n",
    "n_vittorie_pa = 0\n",
    "n_vittorie_fe = 0\n",
    "\n",
    "for i in range(n):\n",
    "    doors = np.random.choice(prize, N, replace = False)     # randomizzo i premi dietro alle porte\n",
    "    #print('Gioco n° ' + str(i+1))\n",
    "    #print('I premi dietro alle porte sono:')\n",
    "    #print(doors)\n",
    "    #print('  1 \\t2 \\t3 \\t4')\n",
    "    \n",
    "    winning_door = np.where(doors=='car')[0][0]\n",
    "    #print('La porta vincente è la numero ' + str(winning_door+1))\n",
    "    \n",
    "    papà = np.random.randint(0, N)\n",
    "    fede = papà\n",
    "    while (fede == papà):\n",
    "        fede = np.random.randint(0, N)\n",
    "    #print('Estraendo a caso le prime scelte:')\n",
    "    #print('\\t Papà sceglie la porta numero ' + str(papà+1))\n",
    "    #print('\\t Fede sceglie la porta numero ' + str(fede+1))\n",
    "    \n",
    "    # Apertura della porta da parte del presentatore\n",
    "    all_doors = np.array(range(N))\n",
    "    all_doors = np.delete(all_doors, winning_door)\n",
    "    if (papà in all_doors): all_doors = np.delete(all_doors, np.where(all_doors == papà))\n",
    "    if (fede in all_doors): all_doors = np.delete(all_doors, np.where(all_doors == fede))\n",
    "    doors_opened = np.random.choice(all_doors, 1, replace = False)\n",
    "    doors_opened = np.sort(doors_opened)\n",
    "    #print('Il presentatore apre la porta numero ' + str(doors_opened+1))\n",
    "    \n",
    "    if(papà == winning_door): \n",
    "        #print('Papà VINCE!')\n",
    "        n_vittorie_pa += 1\n",
    "    #else: \n",
    "        #print('Papà perde')\n",
    "\n",
    "\n",
    "    if(fede == winning_door): \n",
    "        #print('Fede VINCE!')\n",
    "        n_vittorie_fe += 1\n",
    "    #else: \n",
    "        #print('Fede perde')\n",
    "\n",
    "    #print('\\n')\n",
    "\n",
    "print('% vittorie papà: ' + str(round(n_vittorie_pa/n, 2)))\n",
    "print('% vittorie Fede: ' + str(round(n_vittorie_fe/n, 2)))"
   ]
  },
  {
   "cell_type": "code",
   "execution_count": null,
   "id": "dc174f7e-0ef3-4dc2-a309-700ff2b48e06",
   "metadata": {},
   "outputs": [],
   "source": []
  }
 ],
 "metadata": {
  "kernelspec": {
   "display_name": "Python 3 (ipykernel)",
   "language": "python",
   "name": "python3"
  },
  "language_info": {
   "codemirror_mode": {
    "name": "ipython",
    "version": 3
   },
   "file_extension": ".py",
   "mimetype": "text/x-python",
   "name": "python",
   "nbconvert_exporter": "python",
   "pygments_lexer": "ipython3",
   "version": "3.12.2"
  }
 },
 "nbformat": 4,
 "nbformat_minor": 5
}
