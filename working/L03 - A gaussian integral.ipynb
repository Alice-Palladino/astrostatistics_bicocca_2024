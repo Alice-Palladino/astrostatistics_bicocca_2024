{
 "cells": [
  {
   "cell_type": "markdown",
   "id": "6948aab4-1823-4c27-959c-2dfeb009d330",
   "metadata": {},
   "source": [
    "\n",
    "# A Gaussian integral\n",
    "\n",
    "Using MonteCarlo integration, check that:\n",
    "\n",
    "$$\\int_{0}^{+\\infty} x^3 exp\\left( -\\frac{x^2}{2\\sigma^2}\\right) dx = 2\\sigma^4$$\n",
    "\n",
    "1. Does the result converge with the number of samples? And how does the error go down?\n",
    "2. Do it many times. For a given $N$, how are the result distributed? We'll talk about model fitting at length later on, but for now try to fit it by hand with a parametrized model. (If $N$ is large enough you should get something that looks very accurate! And if $N$ is small?)\n",
    "3. How does the distribution change if $N$ increases?"
   ]
  },
  {
   "cell_type": "markdown",
   "id": "535c2020-c928-426d-904a-141622ce57be",
   "metadata": {},
   "source": [
    "The Monte Carlo integration rule states that:\n",
    "\n",
    "$$\\int f(x)p(x)dx \\approx \\frac{1}{N}\\sum_{i=1}^{N}f(x_i)$$\n",
    "\n",
    "For $p(x)$, starting from the definition of Gaussian used in np.random.uniform(), we know that:\n",
    "\n",
    "$$\\int_{-\\infty}^{+\\infty} \\frac{1}{\\sqrt{2\\pi\\sigma^2}} exp\\left( -\\frac{x^2}{2\\sigma^2}\\right) dx = 1$$\n",
    "\n",
    "And thus:\n",
    "\n",
    "$$2\\int_{0}^{+\\infty} \\frac{1}{\\sqrt{2\\pi\\sigma^2}} exp\\left( -\\frac{x^2}{2\\sigma^2}\\right) dx = 1 \\longrightarrow \\sqrt{\\frac{2}{\\pi\\sigma^2}}\\int_{0}^{+\\infty} exp\\left( -\\frac{x^2}{2\\sigma^2}\\right) dx = 1$$\n",
    "\n",
    "We can then write: \n",
    "\n",
    "$$\\int_{0}^{+\\infty} x^3 exp\\left( -\\frac{x^2}{2\\sigma^2}\\right) dx = \\int_{0}^{+\\infty} \\left(x^3 \\sqrt{\\frac{\\pi}{2}}\\sigma\\right) \\left(\\sqrt{\\frac{2}{\\pi\\sigma^2}} exp\\left( -\\frac{x^2}{2\\sigma^2}\\right)\\right) dx$$\n",
    "\n",
    "Therefore, we obtain:\n",
    "\n",
    "$$f(x) = x^3 \\sqrt{\\frac{\\pi}{2}}\\sigma$$"
   ]
  },
  {
   "cell_type": "code",
   "execution_count": 43,
   "id": "1270a378-c5ae-4694-8740-4101192a3774",
   "metadata": {},
   "outputs": [
    {
     "name": "stdout",
     "output_type": "stream",
     "text": [
      "Integral: 0.12617246250507058\n",
      "True value: 0.125\n"
     ]
    }
   ],
   "source": [
    "import numpy as np\n",
    "import matplotlib.pyplot as plt\n",
    "\n",
    "N = 100000\n",
    "sigma = 0.5\n",
    "\n",
    "# I need a f(x) to EVALUATE and a p(x) to SAMPLE, with p(x) that integrates to 1.\n",
    "\n",
    "def HalfGaussian(loc, scale, size):\n",
    "    samples = np.random.normal(loc=loc, scale=scale, size=size)\n",
    "    return abs(samples)\n",
    "\n",
    "def Funcf(loc, scale, size):\n",
    "    points = HalfGaussian(loc=loc, scale=scale, size=size)\n",
    "    return points**3 * (np.sqrt(np.pi/2)*scale)\n",
    "\n",
    "integral = np.mean(Funcf(0, sigma, N))\n",
    "\n",
    "print('Integral: ' + str(integral))\n",
    "print('True value: ' + str(2*sigma**4))"
   ]
  },
  {
   "cell_type": "code",
   "execution_count": null,
   "id": "56cc3311-593f-414a-98b1-ea06523a04a3",
   "metadata": {},
   "outputs": [],
   "source": []
  }
 ],
 "metadata": {
  "kernelspec": {
   "display_name": "Python 3 (ipykernel)",
   "language": "python",
   "name": "python3"
  },
  "language_info": {
   "codemirror_mode": {
    "name": "ipython",
    "version": 3
   },
   "file_extension": ".py",
   "mimetype": "text/x-python",
   "name": "python",
   "nbconvert_exporter": "python",
   "pygments_lexer": "ipython3",
   "version": "3.12.2"
  }
 },
 "nbformat": 4,
 "nbformat_minor": 5
}
