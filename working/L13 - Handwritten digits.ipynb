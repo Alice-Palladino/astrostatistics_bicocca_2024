{
 "cells": [
  {
   "cell_type": "markdown",
   "id": "f5ab3f20-b329-4c87-b6b0-331617077c24",
   "metadata": {},
   "source": [
    "\n",
    "# Handwritten digits\n",
    "\n",
    "1. First thing, grab a piece of paper and visually classify those digits. We'll see if you're better or worse than a computer!\n",
    "\n",
    "My guess: \\\n",
    "8 9 8 4 2 6 9 \\\n",
    "4 9 4 0 6 1 7 \\\n",
    "6 9 5 4 4 8 4 \\\n",
    "0 5 1 4 7 9 5 \\\n",
    "2 1 0 8 3 9 6 \\\n",
    "1 1 2 0 5 4 4 \\\n",
    "9 6 2 6 1 0 0\n",
    "\n",
    "2. Here is how you plot the images and the corresponding labels (The one thing I'm not telling you of course is the random seed I used to select those above). After you've seen this ones, go back to your piece of paper and update your choices if you want. Keep track of both set of preditions. This is like supervised learning."
   ]
  },
  {
   "cell_type": "code",
   "execution_count": null,
   "id": "54d26825-632c-455b-a1ea-97c06f16add9",
   "metadata": {},
   "outputs": [],
   "source": [
    "fig, axes = plt.subplots(7,7, figsize=(10, 10))\n",
    "fig.subplots_adjust(hspace=0.1, wspace=0.1)\n",
    "\n",
    "np.random.seed(42)\n",
    "mychoices = np.random.choice(digits.images.shape[0],100)\n",
    "\n",
    "for i, ax in enumerate(axes.flat):\n",
    "    ax.imshow((digits.images[mychoices[i]]), \n",
    "              cmap='binary')\n",
    "    ax.text(0.05, 0.05, str(digits.target[mychoices[i]]),transform=ax.transAxes, color='green', fontsize=14)\n",
    "    ax.set_xticks([])\n",
    "    ax.set_yticks([])\n",
    "    "
   ]
  },
  {
   "cell_type": "markdown",
   "id": "02ac8dd2-337f-441c-8276-0352526516b4",
   "metadata": {},
   "source": [
    "My new guess: \\\n",
    "8 9 8 1 8 6 9 \\\n",
    "1 9 4 0 6 1 7 \\\n",
    "6 9 5 4 4 8 4 \\\n",
    "0 5 6 4 7 9 5 \\\n",
    "2 1 0 8 3 9 6 \\\n",
    "1 1 2 0 5 4 4 \\\n",
    "9 6 2 6 1 0 0"
   ]
  },
  {
   "cell_type": "code",
   "execution_count": 1,
   "id": "fb6a4173-3dff-4f36-a3cf-9a3c8717b209",
   "metadata": {},
   "outputs": [
    {
     "name": "stdout",
     "output_type": "stream",
     "text": [
      "(1797, 8, 8)\n",
      "dict_keys(['data', 'target', 'frame', 'feature_names', 'target_names', 'images', 'DESCR'])\n"
     ]
    }
   ],
   "source": [
    "from sklearn import datasets\n",
    "digits = datasets.load_digits()\n",
    "#print(digits.images.shape)\n",
    "#print(digits.keys())"
   ]
  },
  {
   "cell_type": "code",
   "execution_count": null,
   "id": "576e15d9-8bc5-408c-a1ef-c9aea882f502",
   "metadata": {},
   "outputs": [],
   "source": []
  }
 ],
 "metadata": {
  "kernelspec": {
   "display_name": "Python 3 (ipykernel)",
   "language": "python",
   "name": "python3"
  },
  "language_info": {
   "codemirror_mode": {
    "name": "ipython",
    "version": 3
   },
   "file_extension": ".py",
   "mimetype": "text/x-python",
   "name": "python",
   "nbconvert_exporter": "python",
   "pygments_lexer": "ipython3",
   "version": "3.12.2"
  }
 },
 "nbformat": 4,
 "nbformat_minor": 5
}
