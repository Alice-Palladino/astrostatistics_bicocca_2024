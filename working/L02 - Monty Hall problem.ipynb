{
 "cells": [
  {
   "cell_type": "markdown",
   "id": "80136c65-e93a-48c9-84fa-bd26cbc414d8",
   "metadata": {},
   "source": [
    "\n",
    "# Monty Hall problem\n",
    "\n",
    "## Part 1: Simulate the game\n",
    "\n",
    "Simulate the Monty Hall problem:\n",
    "- Simulate three doors, one car, and two goats.\n",
    "- Simulate three players: the switcher, the conservative, and the newcomer.\n",
    "- Record who wins.\n",
    "- Repeat it many times.\n",
    "- Which player do you want to be?"
   ]
  },
  {
   "cell_type": "code",
   "execution_count": 117,
   "id": "588b3479-0350-4929-9bbd-4afe7a894ce6",
   "metadata": {},
   "outputs": [
    {
     "name": "stdout",
     "output_type": "stream",
     "text": [
      "The winning door is: 2\n",
      "The players choose the door: 3\n",
      "The host opens the door: 1\n",
      "\n",
      "The conservator keeps his door: 3\n",
      "The switcher chooses the other door: 2\n",
      "The newcomer chooses a door: 3\n",
      "\n",
      "And the winner is...\n",
      "\tConservator loses...\n",
      "\tSwitcher WINS!\n",
      "\tNewcomer loses...\n"
     ]
    }
   ],
   "source": [
    "# Single game\n",
    "\n",
    "import numpy as np\n",
    "\n",
    "##########################################################\n",
    "\n",
    "def doors_opening(N_doors, winning_door, first_choice, doors_to_open):\n",
    "    # Returns all the indexes of the doors opened by the host, excluding the winning door and the first contestant choice.\n",
    "    # If the first choice is the winning door, one random door is left closed.\n",
    "    # All inputs are integers.\n",
    "\n",
    "    if (doors_to_open > (N_doors-2)): \n",
    "        print('ERROR: at least two doors have to stay closed. Check the total number of doors and the number of doors to be opened.')\n",
    "        return\n",
    "    \n",
    "    all_doors = np.array(range(N_doors)) # Array of indexes for all the doors\n",
    "\n",
    "    # Creating the mask for the doors to be removed from the host's possible choices: first the winning door, then the players' first choice. \n",
    "    doors_to_remove = np.array([winning_door]) \n",
    "    if (first_choice != winning_door): doors_to_remove = np.append(doors_to_remove, first_choice)\n",
    "\n",
    "    # The host can choose between the remaining_doors:\n",
    "    remaining_doors_mask = ~np.isin(all_doors, doors_to_remove)    # (The tilde is the NOT operator: True becomes False and vice versa)\n",
    "\n",
    "    doors_opened = np.random.choice(all_doors[remaining_doors_mask], doors_to_open, replace = False)\n",
    "\n",
    "    # The following doors are still closed:\n",
    "    closed_doors_mask = ~np.isin(all_doors, doors_opened)\n",
    "    doors_still_closed = all_doors[closed_doors_mask]\n",
    "    \n",
    "    return np.sort(doors_opened), np.sort(doors_still_closed)\n",
    "\n",
    "###############################################################################\n",
    "\n",
    "N = 3     # Total number of doors\n",
    "M = 1     # Number of doors opened by the host\n",
    "\n",
    "# Initialize the prizes behind each door:\n",
    "prize = []     \n",
    "\n",
    "for i in range(N-1):\n",
    "    prize.append('goat')\n",
    "prize.append('car')     # Now I have an array with N-1 goats and 1 car\n",
    "\n",
    "doors = np.random.choice(prize, N, replace = False)     # Randomized prizes behind each door\n",
    "\n",
    "# The switcher and conservators choose the first door:\n",
    "first_choice = np.random.randint(0, N)\n",
    "\n",
    "# Picking the winning door:\n",
    "winning_door = np.where(doors=='car')[0][0]\n",
    "\n",
    "# The host opens M=N-2 doors (1 in this case); the contestants can choose between the 2 closed doors remaining:\n",
    "doors_opened, doors_still_closed = doors_opening(N, winning_door, first_choice, M)\n",
    "\n",
    "# The contestants choose their respective final doors:\n",
    "conservator_door = first_choice\n",
    "switcher_door = np.random.choice(doors_still_closed[~np.isin(doors_still_closed, first_choice)])\n",
    "newcomer_door = np.random.choice(doors_still_closed, 1)[0]\n",
    "\n",
    "\n",
    "print('The winning door is: ' + str(winning_door+1))\n",
    "print('The players choose the door: ' + str(first_choice+1))\n",
    "print('The host opens the door: ' + str(doors_opened[0] +1) + '\\n')\n",
    "\n",
    "print('The conservator keeps his door: ' + str(conservator_door+1))\n",
    "print('The switcher chooses the other door: ' + str(switcher_door+1))\n",
    "print('The newcomer chooses a door: ' + str(newcomer_door+1) + '\\n')\n",
    "\n",
    "print('And the winner is...')\n",
    "if(conservator_door == winning_door):\n",
    "    print('\\tConservator WINS!')\n",
    "    print('\\tSwitcher loses...')\n",
    "else:\n",
    "    print('\\tConservator loses...')\n",
    "    print('\\tSwitcher WINS!')\n",
    "if(newcomer_door == winning_door):\n",
    "    print('\\tNewcomer WINS!')\n",
    "else:\n",
    "    print('\\tNewcomer loses...')"
   ]
  },
  {
   "cell_type": "markdown",
   "id": "4ce9654b-c663-44f1-8575-450868dacdb7",
   "metadata": {},
   "source": [
    "\n",
    "## Part 2: 100 doors, 98 opened\n",
    "What would happen if you had 100 doors to choose from and the presenter opens 98 or them?\n"
   ]
  },
  {
   "cell_type": "markdown",
   "id": "a8e5ee88-f2ee-4b23-b6dd-ed901d06019b",
   "metadata": {},
   "source": [
    "\n",
    "## Part 3: N doors, M opened\n",
    "What if you had $N$ doors to choose from and the presenter opens $M<N-2$ of them? Study how the probability of winning changes as a function of $M$ and $N$."
   ]
  }
 ],
 "metadata": {
  "kernelspec": {
   "display_name": "Python 3 (ipykernel)",
   "language": "python",
   "name": "python3"
  },
  "language_info": {
   "codemirror_mode": {
    "name": "ipython",
    "version": 3
   },
   "file_extension": ".py",
   "mimetype": "text/x-python",
   "name": "python",
   "nbconvert_exporter": "python",
   "pygments_lexer": "ipython3",
   "version": "3.12.2"
  }
 },
 "nbformat": 4,
 "nbformat_minor": 5
}
