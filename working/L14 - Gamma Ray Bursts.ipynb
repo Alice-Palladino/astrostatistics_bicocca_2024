{
 "cells": [
  {
   "cell_type": "code",
   "execution_count": 5,
   "id": "9419117c-787b-42a4-b15b-eb21970cd617",
   "metadata": {},
   "outputs": [
    {
     "name": "stdout",
     "output_type": "stream",
     "text": [
      "[['GRB240429A' 'GRB240425A' 'GRB240422B*' ... 'GRB910424A*' 'GRB910423A*'\n",
      "  'GRB910421A*']\n",
      " ['None' 'GRB240425015' 'GRB240422389' ... 'None' 'None' 'None']\n",
      " ['15:04:28' '0:21:14.965' '9:19:28.936' ... '19:43:25.064'\n",
      "  '19:51:15.804' '9:14:03.800']\n",
      " ...\n",
      " ['-999' '37.3770' '42.7530' ... '3.1360' '208.5760' '5.6960']\n",
      " ['True' 'True' 'True' ... 'False' 'False' 'False']\n",
      " ['60429.62810185' '60425.01475654' '60422.38852935' ... '48370.82181787'\n",
      "  '48369.82726625' '48367.38476620']]\n"
     ]
    }
   ],
   "source": [
    "import requests\n",
    "import numpy as np\n",
    "import matplotlib.pyplot as plt\n",
    "\n",
    "# Download file\n",
    "r = requests.get('https://user-web.icecube.wisc.edu/~grbweb_public/Summary_table.txt')\n",
    "with open(\"Summary_table.txt\", 'wb') as f:\n",
    "    f.write(r.content)\n",
    "\n",
    "# Read content\n",
    "data = np.loadtxt(\"Summary_table.txt\", dtype='str',unpack='True')\n",
    "\n",
    "# Read headers\n",
    "with open(\"Summary_table.txt\",'r') as f:\n",
    "    names= np.array([n.strip().replace(\" \",\"_\") for n in f.readlines()[1].replace(\"#\",\"\").replace(\"\\n\",\"\").lstrip().split('    ') if n.strip()!=''])\n",
    "\n",
    "print(data)\n",
    "#plt.plot(data[6])\n",
    "#plt.hist(data[6])"
   ]
  },
  {
   "cell_type": "code",
   "execution_count": null,
   "id": "20d837df-2c49-4dd5-ab27-bd368d858f70",
   "metadata": {},
   "outputs": [],
   "source": []
  }
 ],
 "metadata": {
  "kernelspec": {
   "display_name": "Python 3 (ipykernel)",
   "language": "python",
   "name": "python3"
  },
  "language_info": {
   "codemirror_mode": {
    "name": "ipython",
    "version": 3
   },
   "file_extension": ".py",
   "mimetype": "text/x-python",
   "name": "python",
   "nbconvert_exporter": "python",
   "pygments_lexer": "ipython3",
   "version": "3.12.2"
  }
 },
 "nbformat": 4,
 "nbformat_minor": 5
}
